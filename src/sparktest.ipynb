{
 "cells": [
  {
   "cell_type": "code",
   "execution_count": 1,
   "id": "d5a0a9dc",
   "metadata": {},
   "outputs": [],
   "source": [
    "from pyspark import SparkContext\n",
    "from pyspark.streaming import StreamingContext\n",
    "from pyspark.streaming.kafka import KafkaUtils"
   ]
  },
  {
   "cell_type": "code",
   "execution_count": 2,
   "id": "32fd5603",
   "metadata": {},
   "outputs": [
    {
     "name": "stderr",
     "output_type": "stream",
     "text": [
      "WARNING: An illegal reflective access operation has occurred\n",
      "WARNING: Illegal reflective access by org.apache.hadoop.security.authentication.util.KerberosUtil (file:/Users/edz/.conda/envs/agriCUlture/lib/python3.7/site-packages/pyspark/jars/hadoop-auth-2.7.3.jar) to method sun.security.krb5.Config.getInstance()\n",
      "WARNING: Please consider reporting this to the maintainers of org.apache.hadoop.security.authentication.util.KerberosUtil\n",
      "WARNING: Use --illegal-access=warn to enable warnings of further illegal reflective access operations\n",
      "WARNING: All illegal access operations will be denied in a future release\n"
     ]
    },
    {
     "name": "stdout",
     "output_type": "stream",
     "text": [
      "2022-05-03 03:43:16 WARN  NativeCodeLoader:62 - Unable to load native-hadoop library for your platform... using builtin-java classes where applicable\n"
     ]
    },
    {
     "name": "stderr",
     "output_type": "stream",
     "text": [
      "Setting default log level to \"WARN\".\n",
      "To adjust logging level use sc.setLogLevel(newLevel). For SparkR, use setLogLevel(newLevel).\n"
     ]
    }
   ],
   "source": [
    "sc = SparkContext(appName=\"agri spark context\")"
   ]
  },
  {
   "cell_type": "code",
   "execution_count": 37,
   "id": "9c14a141",
   "metadata": {},
   "outputs": [],
   "source": [
    "lines = sc.textFile('/Users/edz/Desktop/6889/agriCUlture/data/sum.csv')"
   ]
  },
  {
   "cell_type": "code",
   "execution_count": 45,
   "id": "7d4717b5",
   "metadata": {},
   "outputs": [
    {
     "data": {
      "text/plain": [
       "[['1/1/60', '1', '1.78', '4.37', '20.5', '32.99', '-3.8'],\n",
       " ['2/1/60', '1.01', '1.8', '4.29', '20.9', '58.92', '-2.66'],\n",
       " ['3/1/60', '1.02', '1.82', '4.19', '21.8', '66.45', '-0.38'],\n",
       " ['4/1/60', '1.06', '1.82', '3.96', '21.8', '51.91', '8.31'],\n",
       " ['5/1/60', '1.08', '1.82', '3.82', '21.7', '62.9', '13.51'],\n",
       " ['6/1/60', '1.09', '1.72', '3.8', '20.8', '68.89', '18.62'],\n",
       " ['7/1/60', '1.09', '1.67', '3.96', '20.3', '77.37', '21.38'],\n",
       " ['8/1/60', '1.07', '1.71', '4.14', '19.6', '66.8', '20.32'],\n",
       " ['9/1/60', '1.06', '1.72', '4.42', '19.4', '73.6', '16.72'],\n",
       " ['10/1/60', '0.99', '1.74', '4.55', '19', '44.27', '10.25'],\n",
       " ['11/1/60', '0.9', '1.76', '4.65', '19.2', '57.7', '2.93'],\n",
       " ['12/1/60', '0.92', '1.77', '4.58', '20.2', '59.3', '-2.35'],\n",
       " ['1/1/61', '0.97', '1.79', '4.45', '20.9', '50.73', '-3.28'],\n",
       " ['2/1/61', '1.01', '1.81', '4.32', '20.7', '56', '-0.44'],\n",
       " ['3/1/61', '1.01', '1.8', '4.19', '20.8', '48.48', '2.56'],\n",
       " ['4/1/61', '0.97', '1.74', '4.04', '20.5', '45.29', '6.57'],\n",
       " ['5/1/61', '1.02', '1.76', '3.94', '19.7', '59.86', '13.2'],\n",
       " ['6/1/61', '1.03', '1.72', '3.87', '19.4', '75.91', '18.88'],\n",
       " ['7/1/61', '1.05', '1.73', '4.02', '19.2', '70.94', '20.95'],\n",
       " ['8/1/61', '1.04', '1.83', '4.17', '20.1', '53.32', '20.54']]"
      ]
     },
     "execution_count": 45,
     "metadata": {},
     "output_type": "execute_result"
    }
   ],
   "source": [
    "words = lines.map(lambda x: x.split(','))\n",
    "words.take(20)\n"
   ]
  }
 ],
 "metadata": {
  "kernelspec": {
   "display_name": "Python 3 (ipykernel)",
   "language": "python",
   "name": "python3"
  },
  "language_info": {
   "codemirror_mode": {
    "name": "ipython",
    "version": 3
   },
   "file_extension": ".py",
   "mimetype": "text/x-python",
   "name": "python",
   "nbconvert_exporter": "python",
   "pygments_lexer": "ipython3",
   "version": "3.7.13"
  }
 },
 "nbformat": 4,
 "nbformat_minor": 5
}
